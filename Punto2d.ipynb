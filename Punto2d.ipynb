{
 "cells": [
  {
   "cell_type": "code",
   "execution_count": 5,
   "metadata": {},
   "outputs": [],
   "source": [
    "import pandas as pd\n",
    "import numpy as np\n",
    "from sklearn import preprocessing\n",
    "import RN_Perceptron as rn\n",
    "import os"
   ]
  },
  {
   "cell_type": "code",
   "execution_count": 37,
   "metadata": {},
   "outputs": [
    {
     "name": "stdout",
     "output_type": "stream",
     "text": [
      "90.96\n",
      "142.56\n"
     ]
    }
   ],
   "source": [
    "# Leer FrutasTrain.csv\n",
    "os.chdir('../02_Perceptron/')\n",
    "\n",
    "datos = pd.read_csv(\"hojas.csv\")\n",
    "nColum = list(datos.columns.values)\n",
    "\n",
    "#--- DATOS DE ENTRENAMIENTO ---\n",
    "entradas = np.array(datos.iloc[:,0:2])\n",
    "\n",
    "normalizarEntrada = 1  # 1 si normaliza; 0 si no\n",
    "if normalizarEntrada:\n",
    "    # Escala los valores entre 0 y 1\n",
    "    # normalizador = preprocessing.MinMaxScaler()\n",
    "    \n",
    "    # Normaliza utilizando la media y el desvio\n",
    "    normalizador= preprocessing.MinMaxScaler()\n",
    "    entradas = normalizador.fit_transform(entradas)\n",
    "\n",
    "\n",
    "#--- SALIDA BINARIA ---\n",
    "opciones = datos['Clase'].unique()\n",
    "salida = datos['Clase'] == opciones[1]  #es boolean\n",
    "salida = np.array(salida * 1)  #lo convierte en binario\n",
    "\n",
    "ORDEN = \"RAND\"\n",
    "if ORDEN == \"ASC\":\n",
    "    #-- orden ASCENDENTE ---\n",
    "    orden = np.argsort(salida)\n",
    "if ORDEN == \"DESC\":\n",
    "    #-- orden DESCENDENTE ---\n",
    "    orden = np.argsort(-1*salida)\n",
    "else:\n",
    "    ##--- orden ALEATORIO ---\n",
    "    orden=np.random.permutation(len(salida))\n",
    "        \n",
    "salida = salida[orden]\n",
    "entradas = entradas[orden, :]\n",
    "repeticiones=[]\n",
    "aciertos=[]\n",
    "numero=0\n",
    "\n",
    "for numero in range(50):\n",
    "    alfa = 0.01\n",
    "    MAX_ITE = 300\n",
    "    dibuja=1\n",
    "    titulos = nColum[0:2]\n",
    "    [W, b, ite] = rn.entrena_Perceptron(entradas, salida,alfa, MAX_ITE,0, titulos)    \n",
    "    yTrain = rn.aplica_Perceptron(entradas, W, b)\n",
    "\n",
    "\n",
    "    #print(\"%% de aciertos en el entrenamiento:\", 100*np.sum(yTrain==salida)/len(salida))\n",
    "      \n",
    "# -- El perceptron ya está entrenado ---\n",
    "# W y b determinan la recta que separa los ejemplos \n",
    "\n",
    "# Calcular las respuestas del perceptron\n",
    "    yTest = rn.aplica_Perceptron(xTest,W,b)\n",
    "    #print(\"%% de aciertos en el testeo:\", 100*np.sum(yTest==salidaTest)/len(salidaTest))\n",
    "    #print(\"%iteraciones usadas:\",ite)\n",
    "    repeticiones.append(ite)\n",
    "    aciertos.append(np.sum(yTrain==salida))\n",
    "    numero =+1\n",
    "#print(repeticiones)\n",
    "#print(aciertos)\n",
    "promediorepeticiones=np.mean(repeticiones)\n",
    "print(promediorepeticiones)\n",
    "tasadeaciertos=np.mean(aciertos)*12\n",
    "print(tasadeaciertos)\n",
    "\n"
   ]
  },
  {
   "cell_type": "code",
   "execution_count": null,
   "metadata": {},
   "outputs": [],
   "source": []
  },
  {
   "cell_type": "code",
   "execution_count": null,
   "metadata": {},
   "outputs": [],
   "source": []
  }
 ],
 "metadata": {
  "kernelspec": {
   "display_name": "Python 3",
   "language": "python",
   "name": "python3"
  },
  "language_info": {
   "codemirror_mode": {
    "name": "ipython",
    "version": 3
   },
   "file_extension": ".py",
   "mimetype": "text/x-python",
   "name": "python",
   "nbconvert_exporter": "python",
   "pygments_lexer": "ipython3",
   "version": "3.6.5"
  }
 },
 "nbformat": 4,
 "nbformat_minor": 2
}
